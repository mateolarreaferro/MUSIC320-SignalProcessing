{
 "cells": [
  {
   "cell_type": "markdown",
   "metadata": {},
   "source": [
    "#### Homework1\n",
    "*Mateo Larrea  \n",
    "Music 320 - Fall 2025/2026*\n",
    "\n",
    "## Lab assignment (35 points)\n",
    "##### Generalized Sinusoids, Additive Synthesis, Taylor Series\n",
    "\n",
    "We will use python for analyzing and generating sine waves."
   ]
  },
  {
   "cell_type": "markdown",
   "metadata": {},
   "source": [
    "#### Lab 1 (10 points)\n",
    "\n",
    "Define the discrete-time generalized sinusoid $x(n)=Xz_{0}^{n}$ for $n=0,1,2,...$, where\n",
    "$$X=2.5\\,e^{j\\pi/4}$$\n",
    "$$z_{0}=0.85\\,e^{j\\pi/8}$$\n",
    "\n",
    "a) Plot re{$Xz_{0}^{n}$} and im{$Xz_{0}^{n}$} versus $n$.\n",
    "\n",
    "b) Plot $Xz_{0}^{n}$ as a collection of points in the complex plane (imaginary part versus real part).\n",
    "\n",
    "c) Mark circles on your plot, with the $k$th circle having radius $|X|e^{-k}$, where $k = 0, 1, 2, 3$ indicating the amplitude of the signal after $k$ time constants have passed. Does it take the same amount of time $\\tau$ to go from the\n",
    "k = 0 circle to the k = 1 circle as it does to go from the k = 1 circle to the k = 2 circle, etc.?\n",
    "What is the number of time steps (samples) that it takes for the signal to traverse between successive circles?"
   ]
  },
  {
   "cell_type": "code",
   "execution_count": null,
   "metadata": {},
   "outputs": [],
   "source": [
    "# Your code here for Lab 1\n"
   ]
  },
  {
   "cell_type": "markdown",
   "metadata": {},
   "source": [
    "#### Lab 2 (15 points) Additive synthesis:\n",
    "\n",
    "The sum of $K$ sinusoids, can be expressed as\n",
    "$$y(t) = \\sum_{k=0}^{K-1} y_k(t) = \\sum_{k=0}^{K-1} A_k \\cos(2 \\pi f_k t + \\phi_k) $$\n",
    "where $A_k$, $f_k$, and $\\phi_k$ are the peak amplitude, frequency (Hz),\n",
    "and initial phase (rad) of the $k$th sinusoidal component of frequency $f_k$. $K$ is the total number of sinusoidal components. Creating such a sum of sinusoids is known as *additive synthesis*.\n",
    "\n",
    "a) Write a function that generates N samples of a sinusoid knowing its amplitude, A, frequency, f, phase, phi, given the sampling frequency Fs.  Use this function to create, plot (only 0.01 s), and listen to one-second-long, unit-amplitude, zero-phase, $440$ Hz cosine wave sampled with a sampling frequency Fs = 44100 Hz.\n",
    "\n",
    "b) Write a function that uses the function above to generate the sum of $K$ sinusoids.  This function should take lists/vectors of amplitudes, frequencies, and phases (each of the same length) as well as the number of samples and the sampling frequency and should return the sum of the sinusoids.  Use your function to create the sum of $K=5$ sinusoids with frequencies $f_k$ = $[220, 660, 1100, 1540,1980]$ and amplitudes $A_k$ = $[ 1, -1/3, 1/5,- 1/7,1/9 ]$, all with zero phase.  Use a sampling frequency Fs = $44.1 kHz$ and return a one-second segment. Plot (only 0.01 s) and listen to it.  How does it sound? What waveform does this approximate?\n",
    "\n",
    "c) Use the functions above to create a signal that is comprised of each of the sinusoids from b) (starting with 220Hz) presented in a sequence 1 second long and added to the previous sinusoid (e.g., 220Hz for 1 second, then add the 660Hz sinusoid for 1 second, ..., finally add the 1980 Hz sinusoid for 1 second). Plot (full duration) and listen to it.  Plot at t = [0.1, 1.1, 2.1, 3.1, 4.1] seconds for 0.02 s. How does the signal evolve through time? How does it sound?\n",
    "\n",
    "d) Generate the same waveform as in b) but with randomized phase. Does it sound the same as b)? Does it look the same?"
   ]
  },
  {
   "cell_type": "code",
   "execution_count": null,
   "metadata": {},
   "outputs": [],
   "source": [
    "# Your code here for Lab 2\n"
   ]
  },
  {
   "cell_type": "markdown",
   "metadata": {},
   "source": [
    "#### Lab 3 (10 points)\n",
    "\n",
    "The Taylor-series expansion around zero (Maclaurin Series) for $sin(x)$ can be written as follows: \n",
    "$$\\sin(x) = \\sum_{n=0}^\\infty \\frac{(-1)^n}{(2n+1)!}x^{2n+1}$$\n",
    "\n",
    "a) Write a Python function that generates the first 10 terms of the $sin(x)$ Taylor-series expansion around zero.\n",
    "\n",
    "b) Create a plot (or a series of plots) that compares $sin(x)$ with its Taylor series for [1,2,3,10] terms. (You can use a sampled $x$ vector that goes from $-10$ to $+10$, on steps of $\\frac{1}{100}$).\n",
    "\n",
    "c) Plot $e^{jx}$ and the first 10 real and imaginary terms of its Taylor series expansion near x = 0, where the Taylor expansion at 0 can be written as follows:\n",
    "\n",
    "$$e^{jx} = \\sum_{n=0}^\\infty \\frac{(j)^n}{(n)!}x^{n} = \\sum_{n=0}^\\infty \\frac{(-1)^n}{(2n)!}x^{2n} +j \\sum_{n=0}^\\infty \\frac{(-1)^n}{(2n+1)!}x^{2n+1} = \\cos(x) + j\\sin(x)$$\n",
    "\n",
    "where $j^{2n} = {(j^{2})}^n  = (-1)^n $  and   $j^{2n+1} = j({j^{2}})^n = j (-1)^n$.\n",
    "\n",
    "This should be a 3D plot with $x$ on the $x$-axis, $\\cos(x)$ on the $y$-axis and $\\sin(x)$ on the $z$-axis.\n",
    "\n",
    "Hint for 3D plotting:\n",
    "```python\n",
    "# get 3D plot area to plot on \n",
    "plt3D = plt.figure().add_subplot(111, projection='3d')\n",
    "# call plot functions with `plt3D.` instead of `plt.`\n",
    "# Note: `plt3D` is an \"axis\" object and its API uses \n",
    "# `set_XXX` for axis labels and limits where the pyplot API \n",
    "# would use just `XXX`. Example:  plt.xlim() -> plt3D.set_xlim()\n",
    "\n",
    "\n",
    "# make the plot\n",
    "plt3D.plot(x,y,z) # where x,y,z are what you want to plot\n",
    "#plt3D.set_xlabel(<text>)\n",
    "#...\n",
    "#plt3D.set_xlim(xmin,xmax)\n",
    "#...\n",
    "plt3D.legend()\n",
    "plt.show()\n",
    "```"
   ]
  },
  {
   "cell_type": "code",
   "execution_count": null,
   "metadata": {},
   "outputs": [],
   "source": [
    "# Your code here for Lab 3\n"
   ]
  }
 ],
 "metadata": {
  "kernelspec": {
   "display_name": "Python 3 (ipykernel)",
   "language": "python",
   "name": "python3"
  },
  "language_info": {
   "codemirror_mode": {
    "name": "ipython",
    "version": 3
   },
   "file_extension": ".py",
   "mimetype": "text/x-python",
   "name": "python",
   "nbconvert_exporter": "python",
   "pygments_lexer": "ipython3",
   "version": "3.12.9"
  }
 },
 "nbformat": 4,
 "nbformat_minor": 4
}
